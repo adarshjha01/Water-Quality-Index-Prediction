{
  "cells": [
    {
      "cell_type": "markdown",
      "metadata": {
        "id": "view-in-github",
        "colab_type": "text"
      },
      "source": [
        "<a href=\"https://colab.research.google.com/github/adarshjha01/Water-Quality-Index-Prediction/blob/main/main.ipynb\" target=\"_parent\"><img src=\"https://colab.research.google.com/assets/colab-badge.svg\" alt=\"Open In Colab\"/></a>"
      ]
    },
    {
      "cell_type": "code",
      "execution_count": null,
      "metadata": {
        "id": "4XfP2Kg3JgB6"
      },
      "outputs": [],
      "source": [
        "import pandas as pd\n",
        "import numpy as np\n",
        "import seaborn as sns\n",
        "import matplotlib.pyplot as plt"
      ]
    },
    {
      "cell_type": "code",
      "source": [
        "from google.colab import drive\n",
        "drive.mount('/content/drive')"
      ],
      "metadata": {
        "id": "OrKBSlDCiYo8"
      },
      "execution_count": null,
      "outputs": []
    },
    {
      "cell_type": "code",
      "execution_count": null,
      "metadata": {
        "id": "_FluwjntKFVa"
      },
      "outputs": [],
      "source": [
        "df=pd.read_csv(\"/content/drive/MyDrive/Mulgrave_river_deeral_joined.csv\")\n",
        "df.head()\n",
        "#df"
      ]
    },
    {
      "cell_type": "code",
      "execution_count": null,
      "metadata": {
        "id": "16yqgbVjDhhr"
      },
      "outputs": [],
      "source": [
        "df"
      ]
    },
    {
      "cell_type": "code",
      "execution_count": null,
      "metadata": {
        "id": "K_UnxmFbAGQN"
      },
      "outputs": [],
      "source": [
        "# Data Visualization"
      ]
    },
    {
      "cell_type": "code",
      "execution_count": null,
      "metadata": {
        "id": "J4U8RTu5LdRj"
      },
      "outputs": [],
      "source": [
        "df.columns\n"
      ]
    },
    {
      "cell_type": "code",
      "execution_count": null,
      "metadata": {
        "id": "8pzORCXV6gr6"
      },
      "outputs": [],
      "source": [
        "df.shape"
      ]
    },
    {
      "cell_type": "code",
      "execution_count": null,
      "metadata": {
        "id": "Yw8rUscwLmTi"
      },
      "outputs": [],
      "source": [
        "df.isnull().sum()"
      ]
    },
    {
      "cell_type": "code",
      "execution_count": null,
      "metadata": {
        "id": "dn4hIAsAM7lS"
      },
      "outputs": [],
      "source": [
        "plt.figure(figsize=(12,8))\n",
        "sns.heatmap(df.corr(),annot=True)"
      ]
    },
    {
      "cell_type": "code",
      "execution_count": null,
      "metadata": {
        "id": "8s2enzcsNKfZ"
      },
      "outputs": [],
      "source": [
        "df.isnull().mean().plot.bar(figsize=(12,8))"
      ]
    },
    {
      "cell_type": "code",
      "execution_count": null,
      "metadata": {
        "id": "IhBOTy5TTS8I"
      },
      "outputs": [],
      "source": [
        "sns.pairplot(df)"
      ]
    },
    {
      "cell_type": "code",
      "execution_count": null,
      "metadata": {
        "id": "-6e9J_pXUuiZ"
      },
      "outputs": [],
      "source": [
        "df.isnull().mean().plot.bar(figsize=(12,8))\n",
        "plt.xlabel(\"Features\")\n",
        "plt.ylabel(\"Percent of missing values\")"
      ]
    },
    {
      "cell_type": "code",
      "execution_count": null,
      "metadata": {
        "id": "tBtwxlziZSWn"
      },
      "outputs": [],
      "source": [
        "df[\"Q\"]=df[\"Q\"].fillna(df[\"Q\"].mean())\n",
        "df[\"Conductivity\"]=df[\"Conductivity\"].fillna(df[\"Conductivity\"].mean())\n",
        "df[\"NO3\"]=df[\"NO3\"].fillna(df[\"NO3\"].mean())\n",
        "df[\"Temp\"]=df[\"Temp\"].fillna(df[\"Temp\"].mean())\n",
        "df[\"Turbidity\"]=df[\"Turbidity\"].fillna(df[\"Turbidity\"].mean())\n",
        "df[\"Level\"]=df[\"Level\"].fillna(df[\"Level\"].mean())"
      ]
    },
    {
      "cell_type": "code",
      "execution_count": null,
      "metadata": {
        "id": "kckFjqeFGu3y"
      },
      "outputs": [],
      "source": [
        "df"
      ]
    },
    {
      "cell_type": "code",
      "execution_count": null,
      "metadata": {
        "id": "3AkKQ6hLaj04"
      },
      "outputs": [],
      "source": [
        "df.isnull().sum()"
      ]
    },
    {
      "cell_type": "code",
      "execution_count": null,
      "metadata": {
        "id": "DxEwGqJzau49"
      },
      "outputs": [],
      "source": [
        "sns.heatmap(df.isnull())"
      ]
    },
    {
      "cell_type": "code",
      "execution_count": null,
      "metadata": {
        "id": "Wgw7f0EWeaby"
      },
      "outputs": [],
      "source": [
        "df.hist(figsize=(12,10))\n",
        "plt.show()"
      ]
    },
    {
      "cell_type": "code",
      "source": [
        "'''df.to_csv('Mulgrave_river_deeral_joined.csv', index=False)\n",
        "from google.colab import files\n",
        "files.download('Mulgrave_river_deeral_joined.csv')'''"
      ],
      "metadata": {
        "id": "j_65HYD01ikF"
      },
      "execution_count": null,
      "outputs": []
    },
    {
      "cell_type": "code",
      "source": [
        "dff=pd.read_csv(\"/content/drive/MyDrive/Mulgrave river WQI.csv\")\n",
        "dff.head()\n",
        "#df"
      ],
      "metadata": {
        "id": "5b2DfT_fij-y"
      },
      "execution_count": null,
      "outputs": []
    },
    {
      "cell_type": "code",
      "source": [
        "sns.pairplot(df)"
      ],
      "metadata": {
        "id": "0a9l-gMnbS_K"
      },
      "execution_count": null,
      "outputs": []
    }
  ],
  "metadata": {
    "colab": {
      "provenance": [],
      "mount_file_id": "1myXFIVu36c6nTaMdKou7iULAdaUEKd24",
      "authorship_tag": "ABX9TyPvZTU1jRvlHqyhcDPrS+In",
      "include_colab_link": true
    },
    "kernelspec": {
      "display_name": "Python 3",
      "name": "python3"
    },
    "language_info": {
      "name": "python"
    }
  },
  "nbformat": 4,
  "nbformat_minor": 0
}